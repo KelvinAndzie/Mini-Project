{
 "cells": [
  {
   "cell_type": "code",
   "execution_count": 55,
   "metadata": {},
   "outputs": [],
   "source": [
    "import pandas as pd\n",
    "import numpy as np"
   ]
  },
  {
   "cell_type": "code",
   "execution_count": 56,
   "metadata": {},
   "outputs": [
    {
     "data": {
      "text/html": [
       "<div>\n",
       "<style scoped>\n",
       "    .dataframe tbody tr th:only-of-type {\n",
       "        vertical-align: middle;\n",
       "    }\n",
       "\n",
       "    .dataframe tbody tr th {\n",
       "        vertical-align: top;\n",
       "    }\n",
       "\n",
       "    .dataframe thead th {\n",
       "        text-align: right;\n",
       "    }\n",
       "</style>\n",
       "<table border=\"1\" class=\"dataframe\">\n",
       "  <thead>\n",
       "    <tr style=\"text-align: right;\">\n",
       "      <th></th>\n",
       "      <th>Database Fundamentals</th>\n",
       "      <th>Computer Architecture</th>\n",
       "      <th>Distributed Computing Systems</th>\n",
       "      <th>Cyber Security</th>\n",
       "      <th>Networking</th>\n",
       "      <th>Software Development</th>\n",
       "      <th>Programming Skills</th>\n",
       "      <th>Project Management</th>\n",
       "      <th>Computer Forensics Fundamentals</th>\n",
       "      <th>Technical Communication</th>\n",
       "      <th>AI ML</th>\n",
       "      <th>Software Engineering</th>\n",
       "      <th>Business Analysis</th>\n",
       "      <th>Communication skills</th>\n",
       "      <th>Data Science</th>\n",
       "      <th>Troubleshooting skills</th>\n",
       "      <th>Graphics Designing</th>\n",
       "      <th>Role</th>\n",
       "    </tr>\n",
       "  </thead>\n",
       "  <tbody>\n",
       "    <tr>\n",
       "      <th>0</th>\n",
       "      <td>Professional</td>\n",
       "      <td>Not Interested</td>\n",
       "      <td>Not Interested</td>\n",
       "      <td>Not Interested</td>\n",
       "      <td>Not Interested</td>\n",
       "      <td>Not Interested</td>\n",
       "      <td>Not Interested</td>\n",
       "      <td>Not Interested</td>\n",
       "      <td>Not Interested</td>\n",
       "      <td>Not Interested</td>\n",
       "      <td>Not Interested</td>\n",
       "      <td>Not Interested</td>\n",
       "      <td>Not Interested</td>\n",
       "      <td>Not Interested</td>\n",
       "      <td>Not Interested</td>\n",
       "      <td>Not Interested</td>\n",
       "      <td>Not Interested</td>\n",
       "      <td>Database Administrator</td>\n",
       "    </tr>\n",
       "    <tr>\n",
       "      <th>1</th>\n",
       "      <td>Professional</td>\n",
       "      <td>Poor</td>\n",
       "      <td>Not Interested</td>\n",
       "      <td>Not Interested</td>\n",
       "      <td>Not Interested</td>\n",
       "      <td>Not Interested</td>\n",
       "      <td>Not Interested</td>\n",
       "      <td>Not Interested</td>\n",
       "      <td>Not Interested</td>\n",
       "      <td>Not Interested</td>\n",
       "      <td>Not Interested</td>\n",
       "      <td>Not Interested</td>\n",
       "      <td>Not Interested</td>\n",
       "      <td>Not Interested</td>\n",
       "      <td>Not Interested</td>\n",
       "      <td>Not Interested</td>\n",
       "      <td>Not Interested</td>\n",
       "      <td>Database Administrator</td>\n",
       "    </tr>\n",
       "    <tr>\n",
       "      <th>2</th>\n",
       "      <td>Professional</td>\n",
       "      <td>Beginner</td>\n",
       "      <td>Not Interested</td>\n",
       "      <td>Not Interested</td>\n",
       "      <td>Not Interested</td>\n",
       "      <td>Not Interested</td>\n",
       "      <td>Not Interested</td>\n",
       "      <td>Not Interested</td>\n",
       "      <td>Not Interested</td>\n",
       "      <td>Not Interested</td>\n",
       "      <td>Not Interested</td>\n",
       "      <td>Not Interested</td>\n",
       "      <td>Not Interested</td>\n",
       "      <td>Not Interested</td>\n",
       "      <td>Not Interested</td>\n",
       "      <td>Not Interested</td>\n",
       "      <td>Not Interested</td>\n",
       "      <td>Database Administrator</td>\n",
       "    </tr>\n",
       "    <tr>\n",
       "      <th>3</th>\n",
       "      <td>Professional</td>\n",
       "      <td>Average</td>\n",
       "      <td>Not Interested</td>\n",
       "      <td>Not Interested</td>\n",
       "      <td>Not Interested</td>\n",
       "      <td>Not Interested</td>\n",
       "      <td>Not Interested</td>\n",
       "      <td>Not Interested</td>\n",
       "      <td>Not Interested</td>\n",
       "      <td>Not Interested</td>\n",
       "      <td>Not Interested</td>\n",
       "      <td>Not Interested</td>\n",
       "      <td>Not Interested</td>\n",
       "      <td>Not Interested</td>\n",
       "      <td>Not Interested</td>\n",
       "      <td>Not Interested</td>\n",
       "      <td>Not Interested</td>\n",
       "      <td>Database Administrator</td>\n",
       "    </tr>\n",
       "    <tr>\n",
       "      <th>4</th>\n",
       "      <td>Professional</td>\n",
       "      <td>Intermediate</td>\n",
       "      <td>Not Interested</td>\n",
       "      <td>Not Interested</td>\n",
       "      <td>Not Interested</td>\n",
       "      <td>Not Interested</td>\n",
       "      <td>Not Interested</td>\n",
       "      <td>Not Interested</td>\n",
       "      <td>Not Interested</td>\n",
       "      <td>Not Interested</td>\n",
       "      <td>Not Interested</td>\n",
       "      <td>Not Interested</td>\n",
       "      <td>Not Interested</td>\n",
       "      <td>Not Interested</td>\n",
       "      <td>Not Interested</td>\n",
       "      <td>Not Interested</td>\n",
       "      <td>Not Interested</td>\n",
       "      <td>Database Administrator</td>\n",
       "    </tr>\n",
       "  </tbody>\n",
       "</table>\n",
       "</div>"
      ],
      "text/plain": [
       "  Database Fundamentals Computer Architecture Distributed Computing Systems  \\\n",
       "0          Professional        Not Interested                Not Interested   \n",
       "1          Professional                  Poor                Not Interested   \n",
       "2          Professional              Beginner                Not Interested   \n",
       "3          Professional               Average                Not Interested   \n",
       "4          Professional          Intermediate                Not Interested   \n",
       "\n",
       "   Cyber Security      Networking Software Development Programming Skills  \\\n",
       "0  Not Interested  Not Interested       Not Interested     Not Interested   \n",
       "1  Not Interested  Not Interested       Not Interested     Not Interested   \n",
       "2  Not Interested  Not Interested       Not Interested     Not Interested   \n",
       "3  Not Interested  Not Interested       Not Interested     Not Interested   \n",
       "4  Not Interested  Not Interested       Not Interested     Not Interested   \n",
       "\n",
       "  Project Management Computer Forensics Fundamentals Technical Communication  \\\n",
       "0     Not Interested                  Not Interested          Not Interested   \n",
       "1     Not Interested                  Not Interested          Not Interested   \n",
       "2     Not Interested                  Not Interested          Not Interested   \n",
       "3     Not Interested                  Not Interested          Not Interested   \n",
       "4     Not Interested                  Not Interested          Not Interested   \n",
       "\n",
       "            AI ML Software Engineering Business Analysis Communication skills  \\\n",
       "0  Not Interested       Not Interested    Not Interested       Not Interested   \n",
       "1  Not Interested       Not Interested    Not Interested       Not Interested   \n",
       "2  Not Interested       Not Interested    Not Interested       Not Interested   \n",
       "3  Not Interested       Not Interested    Not Interested       Not Interested   \n",
       "4  Not Interested       Not Interested    Not Interested       Not Interested   \n",
       "\n",
       "     Data Science Troubleshooting skills Graphics Designing  \\\n",
       "0  Not Interested         Not Interested     Not Interested   \n",
       "1  Not Interested         Not Interested     Not Interested   \n",
       "2  Not Interested         Not Interested     Not Interested   \n",
       "3  Not Interested         Not Interested     Not Interested   \n",
       "4  Not Interested         Not Interested     Not Interested   \n",
       "\n",
       "                     Role  \n",
       "0  Database Administrator  \n",
       "1  Database Administrator  \n",
       "2  Database Administrator  \n",
       "3  Database Administrator  \n",
       "4  Database Administrator  "
      ]
     },
     "execution_count": 56,
     "metadata": {},
     "output_type": "execute_result"
    }
   ],
   "source": [
    "df = pd.read_csv('../resources/dataset9000.csv')\n",
    "df.head()"
   ]
  },
  {
   "cell_type": "code",
   "execution_count": 57,
   "metadata": {},
   "outputs": [
    {
     "data": {
      "text/plain": [
       "(9179, 18)"
      ]
     },
     "execution_count": 57,
     "metadata": {},
     "output_type": "execute_result"
    }
   ],
   "source": [
    "df.shape"
   ]
  },
  {
   "cell_type": "code",
   "execution_count": 58,
   "metadata": {},
   "outputs": [
    {
     "data": {
      "text/plain": [
       "0       Database Administrator\n",
       "1       Database Administrator\n",
       "2       Database Administrator\n",
       "3       Database Administrator\n",
       "4       Database Administrator\n",
       "                 ...          \n",
       "9174         Graphics Designer\n",
       "9175         Graphics Designer\n",
       "9176         Graphics Designer\n",
       "9177         Graphics Designer\n",
       "9178         Graphics Designer\n",
       "Name: Role, Length: 9179, dtype: object"
      ]
     },
     "execution_count": 58,
     "metadata": {},
     "output_type": "execute_result"
    }
   ],
   "source": [
    "data = df.drop(columns=[\"Role\"])\n",
    "labels = df[\"Role\"]\n",
    "labels"
   ]
  },
  {
   "cell_type": "code",
   "execution_count": 59,
   "metadata": {},
   "outputs": [
    {
     "data": {
      "text/plain": [
       "Database Fundamentals              0\n",
       "Computer Architecture              0\n",
       "Distributed Computing Systems      0\n",
       "Cyber Security                     0\n",
       "Networking                         0\n",
       "Software Development               0\n",
       "Programming Skills                 0\n",
       "Project Management                 0\n",
       "Computer Forensics Fundamentals    0\n",
       "Technical Communication            0\n",
       "AI ML                              0\n",
       "Software Engineering               0\n",
       "Business Analysis                  0\n",
       "Communication skills               0\n",
       "Data Science                       0\n",
       "Troubleshooting skills             0\n",
       "Graphics Designing                 1\n",
       "dtype: int64"
      ]
     },
     "execution_count": 59,
     "metadata": {},
     "output_type": "execute_result"
    }
   ],
   "source": [
    "data.isnull().sum()"
   ]
  },
  {
   "cell_type": "code",
   "execution_count": 60,
   "metadata": {},
   "outputs": [
    {
     "data": {
      "text/plain": [
       "Role\n",
       "Database Administrator             540\n",
       "Technical Writer                   540\n",
       "Helpdesk Engineer                  540\n",
       "Data Scientist                     540\n",
       "Customer Service Executive         540\n",
       "Business Analyst                   540\n",
       "Software tester                    540\n",
       "AI ML Specialist                   540\n",
       "Information Security Specialist    540\n",
       "Hardware Engineer                  540\n",
       "Project Manager                    540\n",
       "API Specialist                     540\n",
       "Software Developer                 540\n",
       "Networking Engineer                540\n",
       "Cyber Security Specialist          540\n",
       "Application Support Engineer       540\n",
       "Graphics Designer                  539\n",
       "Name: count, dtype: int64"
      ]
     },
     "execution_count": 60,
     "metadata": {},
     "output_type": "execute_result"
    }
   ],
   "source": [
    "labels.value_counts()"
   ]
  },
  {
   "cell_type": "markdown",
   "metadata": {},
   "source": [
    "## Label Encoding\n"
   ]
  },
  {
   "cell_type": "code",
   "execution_count": 61,
   "metadata": {},
   "outputs": [],
   "source": [
    "# from sklearn.preprocessing import LabelEncoder\n",
    "\n",
    "# le = LabelEncoder()\n",
    "# label_encoded = le.fit_transform(labels)\n",
    "# le.inverse_transform(label_encoded)"
   ]
  },
  {
   "cell_type": "code",
   "execution_count": 62,
   "metadata": {},
   "outputs": [
    {
     "data": {
      "text/html": [
       "<div>\n",
       "<style scoped>\n",
       "    .dataframe tbody tr th:only-of-type {\n",
       "        vertical-align: middle;\n",
       "    }\n",
       "\n",
       "    .dataframe tbody tr th {\n",
       "        vertical-align: top;\n",
       "    }\n",
       "\n",
       "    .dataframe thead th {\n",
       "        text-align: right;\n",
       "    }\n",
       "</style>\n",
       "<table border=\"1\" class=\"dataframe\">\n",
       "  <thead>\n",
       "    <tr style=\"text-align: right;\">\n",
       "      <th></th>\n",
       "      <th>Database Fundamentals</th>\n",
       "      <th>Computer Architecture</th>\n",
       "      <th>Distributed Computing Systems</th>\n",
       "      <th>Cyber Security</th>\n",
       "      <th>Networking</th>\n",
       "      <th>Software Development</th>\n",
       "      <th>Programming Skills</th>\n",
       "      <th>Project Management</th>\n",
       "      <th>Computer Forensics Fundamentals</th>\n",
       "      <th>Technical Communication</th>\n",
       "      <th>AI ML</th>\n",
       "      <th>Software Engineering</th>\n",
       "      <th>Business Analysis</th>\n",
       "      <th>Communication skills</th>\n",
       "      <th>Data Science</th>\n",
       "      <th>Troubleshooting skills</th>\n",
       "      <th>Graphics Designing</th>\n",
       "    </tr>\n",
       "  </thead>\n",
       "  <tbody>\n",
       "    <tr>\n",
       "      <th>0</th>\n",
       "      <td>6</td>\n",
       "      <td>0</td>\n",
       "      <td>0</td>\n",
       "      <td>0</td>\n",
       "      <td>0</td>\n",
       "      <td>0</td>\n",
       "      <td>0</td>\n",
       "      <td>0</td>\n",
       "      <td>0</td>\n",
       "      <td>0</td>\n",
       "      <td>0</td>\n",
       "      <td>0</td>\n",
       "      <td>0</td>\n",
       "      <td>0</td>\n",
       "      <td>0</td>\n",
       "      <td>0</td>\n",
       "      <td>0.0</td>\n",
       "    </tr>\n",
       "    <tr>\n",
       "      <th>1</th>\n",
       "      <td>6</td>\n",
       "      <td>1</td>\n",
       "      <td>0</td>\n",
       "      <td>0</td>\n",
       "      <td>0</td>\n",
       "      <td>0</td>\n",
       "      <td>0</td>\n",
       "      <td>0</td>\n",
       "      <td>0</td>\n",
       "      <td>0</td>\n",
       "      <td>0</td>\n",
       "      <td>0</td>\n",
       "      <td>0</td>\n",
       "      <td>0</td>\n",
       "      <td>0</td>\n",
       "      <td>0</td>\n",
       "      <td>0.0</td>\n",
       "    </tr>\n",
       "    <tr>\n",
       "      <th>2</th>\n",
       "      <td>6</td>\n",
       "      <td>2</td>\n",
       "      <td>0</td>\n",
       "      <td>0</td>\n",
       "      <td>0</td>\n",
       "      <td>0</td>\n",
       "      <td>0</td>\n",
       "      <td>0</td>\n",
       "      <td>0</td>\n",
       "      <td>0</td>\n",
       "      <td>0</td>\n",
       "      <td>0</td>\n",
       "      <td>0</td>\n",
       "      <td>0</td>\n",
       "      <td>0</td>\n",
       "      <td>0</td>\n",
       "      <td>0.0</td>\n",
       "    </tr>\n",
       "    <tr>\n",
       "      <th>3</th>\n",
       "      <td>6</td>\n",
       "      <td>3</td>\n",
       "      <td>0</td>\n",
       "      <td>0</td>\n",
       "      <td>0</td>\n",
       "      <td>0</td>\n",
       "      <td>0</td>\n",
       "      <td>0</td>\n",
       "      <td>0</td>\n",
       "      <td>0</td>\n",
       "      <td>0</td>\n",
       "      <td>0</td>\n",
       "      <td>0</td>\n",
       "      <td>0</td>\n",
       "      <td>0</td>\n",
       "      <td>0</td>\n",
       "      <td>0.0</td>\n",
       "    </tr>\n",
       "    <tr>\n",
       "      <th>4</th>\n",
       "      <td>6</td>\n",
       "      <td>4</td>\n",
       "      <td>0</td>\n",
       "      <td>0</td>\n",
       "      <td>0</td>\n",
       "      <td>0</td>\n",
       "      <td>0</td>\n",
       "      <td>0</td>\n",
       "      <td>0</td>\n",
       "      <td>0</td>\n",
       "      <td>0</td>\n",
       "      <td>0</td>\n",
       "      <td>0</td>\n",
       "      <td>0</td>\n",
       "      <td>0</td>\n",
       "      <td>0</td>\n",
       "      <td>0.0</td>\n",
       "    </tr>\n",
       "  </tbody>\n",
       "</table>\n",
       "</div>"
      ],
      "text/plain": [
       "   Database Fundamentals  Computer Architecture  \\\n",
       "0                      6                      0   \n",
       "1                      6                      1   \n",
       "2                      6                      2   \n",
       "3                      6                      3   \n",
       "4                      6                      4   \n",
       "\n",
       "   Distributed Computing Systems  Cyber Security  Networking  \\\n",
       "0                              0               0           0   \n",
       "1                              0               0           0   \n",
       "2                              0               0           0   \n",
       "3                              0               0           0   \n",
       "4                              0               0           0   \n",
       "\n",
       "   Software Development  Programming Skills  Project Management  \\\n",
       "0                     0                   0                   0   \n",
       "1                     0                   0                   0   \n",
       "2                     0                   0                   0   \n",
       "3                     0                   0                   0   \n",
       "4                     0                   0                   0   \n",
       "\n",
       "   Computer Forensics Fundamentals  Technical Communication  AI ML  \\\n",
       "0                                0                        0      0   \n",
       "1                                0                        0      0   \n",
       "2                                0                        0      0   \n",
       "3                                0                        0      0   \n",
       "4                                0                        0      0   \n",
       "\n",
       "   Software Engineering  Business Analysis  Communication skills  \\\n",
       "0                     0                  0                     0   \n",
       "1                     0                  0                     0   \n",
       "2                     0                  0                     0   \n",
       "3                     0                  0                     0   \n",
       "4                     0                  0                     0   \n",
       "\n",
       "   Data Science  Troubleshooting skills  Graphics Designing  \n",
       "0             0                       0                 0.0  \n",
       "1             0                       0                 0.0  \n",
       "2             0                       0                 0.0  \n",
       "3             0                       0                 0.0  \n",
       "4             0                       0                 0.0  "
      ]
     },
     "execution_count": 62,
     "metadata": {},
     "output_type": "execute_result"
    }
   ],
   "source": [
    "encode = {\n",
    "    \"Not Interested\" : 0,\n",
    "\"Poor\" : 1,\n",
    "\"Beginner\" : 2,\n",
    "\"Average\" : 3,\n",
    "\"Intermediate\" : 4,\n",
    "\"Excellent\" : 5,\n",
    "\"Professional\" : 6\n",
    "    \n",
    "}\n",
    "for i in data.columns:\n",
    "    cleanup_nums = {i: encode}\n",
    "    data.replace(cleanup_nums, inplace=True)\n",
    "\n",
    "data.head()"
   ]
  },
  {
   "cell_type": "markdown",
   "metadata": {},
   "source": [
    "## fill in null values\n"
   ]
  },
  {
   "cell_type": "code",
   "execution_count": 63,
   "metadata": {},
   "outputs": [
    {
     "data": {
      "text/plain": [
       "Database Fundamentals              0\n",
       "Computer Architecture              0\n",
       "Distributed Computing Systems      0\n",
       "Cyber Security                     0\n",
       "Networking                         0\n",
       "Software Development               0\n",
       "Programming Skills                 0\n",
       "Project Management                 0\n",
       "Computer Forensics Fundamentals    0\n",
       "Technical Communication            0\n",
       "AI ML                              0\n",
       "Software Engineering               0\n",
       "Business Analysis                  0\n",
       "Communication skills               0\n",
       "Data Science                       0\n",
       "Troubleshooting skills             0\n",
       "Graphics Designing                 1\n",
       "dtype: int64"
      ]
     },
     "execution_count": 63,
     "metadata": {},
     "output_type": "execute_result"
    }
   ],
   "source": [
    "data.isnull().sum()"
   ]
  },
  {
   "cell_type": "code",
   "execution_count": 64,
   "metadata": {},
   "outputs": [],
   "source": [
    "data = data.fillna(data.mean())"
   ]
  },
  {
   "cell_type": "code",
   "execution_count": 65,
   "metadata": {},
   "outputs": [
    {
     "data": {
      "text/plain": [
       "Database Fundamentals              0\n",
       "Computer Architecture              0\n",
       "Distributed Computing Systems      0\n",
       "Cyber Security                     0\n",
       "Networking                         0\n",
       "Software Development               0\n",
       "Programming Skills                 0\n",
       "Project Management                 0\n",
       "Computer Forensics Fundamentals    0\n",
       "Technical Communication            0\n",
       "AI ML                              0\n",
       "Software Engineering               0\n",
       "Business Analysis                  0\n",
       "Communication skills               0\n",
       "Data Science                       0\n",
       "Troubleshooting skills             0\n",
       "Graphics Designing                 0\n",
       "dtype: int64"
      ]
     },
     "execution_count": 65,
     "metadata": {},
     "output_type": "execute_result"
    }
   ],
   "source": [
    "data.isnull().sum()"
   ]
  },
  {
   "cell_type": "markdown",
   "metadata": {},
   "source": [
    "## Split dataset\n"
   ]
  },
  {
   "cell_type": "code",
   "execution_count": 66,
   "metadata": {},
   "outputs": [],
   "source": [
    "from sklearn.model_selection import train_test_split\n",
    "\n",
    "x_train, x_test, y_train, y_test = train_test_split(data, labels, test_size=0.2, random_state=42)"
   ]
  },
  {
   "cell_type": "code",
   "execution_count": 67,
   "metadata": {},
   "outputs": [
    {
     "data": {
      "text/html": [
       "<style>#sk-container-id-4 {color: black;background-color: white;}#sk-container-id-4 pre{padding: 0;}#sk-container-id-4 div.sk-toggleable {background-color: white;}#sk-container-id-4 label.sk-toggleable__label {cursor: pointer;display: block;width: 100%;margin-bottom: 0;padding: 0.3em;box-sizing: border-box;text-align: center;}#sk-container-id-4 label.sk-toggleable__label-arrow:before {content: \"▸\";float: left;margin-right: 0.25em;color: #696969;}#sk-container-id-4 label.sk-toggleable__label-arrow:hover:before {color: black;}#sk-container-id-4 div.sk-estimator:hover label.sk-toggleable__label-arrow:before {color: black;}#sk-container-id-4 div.sk-toggleable__content {max-height: 0;max-width: 0;overflow: hidden;text-align: left;background-color: #f0f8ff;}#sk-container-id-4 div.sk-toggleable__content pre {margin: 0.2em;color: black;border-radius: 0.25em;background-color: #f0f8ff;}#sk-container-id-4 input.sk-toggleable__control:checked~div.sk-toggleable__content {max-height: 200px;max-width: 100%;overflow: auto;}#sk-container-id-4 input.sk-toggleable__control:checked~label.sk-toggleable__label-arrow:before {content: \"▾\";}#sk-container-id-4 div.sk-estimator input.sk-toggleable__control:checked~label.sk-toggleable__label {background-color: #d4ebff;}#sk-container-id-4 div.sk-label input.sk-toggleable__control:checked~label.sk-toggleable__label {background-color: #d4ebff;}#sk-container-id-4 input.sk-hidden--visually {border: 0;clip: rect(1px 1px 1px 1px);clip: rect(1px, 1px, 1px, 1px);height: 1px;margin: -1px;overflow: hidden;padding: 0;position: absolute;width: 1px;}#sk-container-id-4 div.sk-estimator {font-family: monospace;background-color: #f0f8ff;border: 1px dotted black;border-radius: 0.25em;box-sizing: border-box;margin-bottom: 0.5em;}#sk-container-id-4 div.sk-estimator:hover {background-color: #d4ebff;}#sk-container-id-4 div.sk-parallel-item::after {content: \"\";width: 100%;border-bottom: 1px solid gray;flex-grow: 1;}#sk-container-id-4 div.sk-label:hover label.sk-toggleable__label {background-color: #d4ebff;}#sk-container-id-4 div.sk-serial::before {content: \"\";position: absolute;border-left: 1px solid gray;box-sizing: border-box;top: 0;bottom: 0;left: 50%;z-index: 0;}#sk-container-id-4 div.sk-serial {display: flex;flex-direction: column;align-items: center;background-color: white;padding-right: 0.2em;padding-left: 0.2em;position: relative;}#sk-container-id-4 div.sk-item {position: relative;z-index: 1;}#sk-container-id-4 div.sk-parallel {display: flex;align-items: stretch;justify-content: center;background-color: white;position: relative;}#sk-container-id-4 div.sk-item::before, #sk-container-id-4 div.sk-parallel-item::before {content: \"\";position: absolute;border-left: 1px solid gray;box-sizing: border-box;top: 0;bottom: 0;left: 50%;z-index: -1;}#sk-container-id-4 div.sk-parallel-item {display: flex;flex-direction: column;z-index: 1;position: relative;background-color: white;}#sk-container-id-4 div.sk-parallel-item:first-child::after {align-self: flex-end;width: 50%;}#sk-container-id-4 div.sk-parallel-item:last-child::after {align-self: flex-start;width: 50%;}#sk-container-id-4 div.sk-parallel-item:only-child::after {width: 0;}#sk-container-id-4 div.sk-dashed-wrapped {border: 1px dashed gray;margin: 0 0.4em 0.5em 0.4em;box-sizing: border-box;padding-bottom: 0.4em;background-color: white;}#sk-container-id-4 div.sk-label label {font-family: monospace;font-weight: bold;display: inline-block;line-height: 1.2em;}#sk-container-id-4 div.sk-label-container {text-align: center;}#sk-container-id-4 div.sk-container {/* jupyter's `normalize.less` sets `[hidden] { display: none; }` but bootstrap.min.css set `[hidden] { display: none !important; }` so we also need the `!important` here to be able to override the default hidden behavior on the sphinx rendered scikit-learn.org. See: https://github.com/scikit-learn/scikit-learn/issues/21755 */display: inline-block !important;position: relative;}#sk-container-id-4 div.sk-text-repr-fallback {display: none;}</style><div id=\"sk-container-id-4\" class=\"sk-top-container\"><div class=\"sk-text-repr-fallback\"><pre>RandomForestClassifier(max_depth=2, random_state=0)</pre><b>In a Jupyter environment, please rerun this cell to show the HTML representation or trust the notebook. <br />On GitHub, the HTML representation is unable to render, please try loading this page with nbviewer.org.</b></div><div class=\"sk-container\" hidden><div class=\"sk-item\"><div class=\"sk-estimator sk-toggleable\"><input class=\"sk-toggleable__control sk-hidden--visually\" id=\"sk-estimator-id-4\" type=\"checkbox\" checked><label for=\"sk-estimator-id-4\" class=\"sk-toggleable__label sk-toggleable__label-arrow\">RandomForestClassifier</label><div class=\"sk-toggleable__content\"><pre>RandomForestClassifier(max_depth=2, random_state=0)</pre></div></div></div></div></div>"
      ],
      "text/plain": [
       "RandomForestClassifier(max_depth=2, random_state=0)"
      ]
     },
     "execution_count": 67,
     "metadata": {},
     "output_type": "execute_result"
    }
   ],
   "source": [
    "from sklearn.ensemble import RandomForestClassifier\n",
    "\n",
    "randForstCls = RandomForestClassifier(n_estimators=100, max_depth=2, random_state=0)\n",
    "randForstCls.fit(x_train, y_train)"
   ]
  },
  {
   "cell_type": "code",
   "execution_count": 68,
   "metadata": {},
   "outputs": [
    {
     "name": "stdout",
     "output_type": "stream",
     "text": [
      "Instance 1: ['Hardware Engineer', 'Software Developer', 'Software tester', 'Helpdesk Engineer', 'Application Support Engineer']\n",
      "Instance 2: ['Helpdesk Engineer', 'Software Developer', 'Software tester', 'AI ML Specialist', 'Database Administrator']\n",
      "Instance 3: ['Graphics Designer', 'Software Developer', 'AI ML Specialist', 'Technical Writer', 'Software tester']\n",
      "Instance 4: ['Customer Service Executive', 'Software tester', 'Software Developer', 'Application Support Engineer', 'Technical Writer']\n",
      "Instance 5: ['Cyber Security Specialist', 'Software Developer', 'Software tester', 'Technical Writer', 'Application Support Engineer']\n",
      "true classes:  624              Hardware Engineer\n",
      "8171             Helpdesk Engineer\n",
      "9168             Graphics Designer\n",
      "7143    Customer Service Executive\n",
      "1817     Cyber Security Specialist\n",
      "Name: Role, dtype: object\n"
     ]
    }
   ],
   "source": [
    "y_pred = randForstCls.predict(x_test)\n",
    "\n",
    "# Predict probabilities for each class for each instance in the test set\n",
    "probabilities = randForstCls.predict_proba(x_test[:5])\n",
    "\n",
    "# Get the top 5 predictions for each instance\n",
    "top5_predictions = []\n",
    "for prob in probabilities:\n",
    "    top5_indices = prob.argsort()[-5:][::-1]  # Get the indices of the top 5 probabilities\n",
    "    top5_classes = [randForstCls.classes_[i] for i in top5_indices]  # Map indices to class labels\n",
    "    top5_predictions.append(top5_classes)\n",
    "\n",
    "# Print the top 5 predictions for the first few instances\n",
    "for i in range(5):  # Change 5 to the number of instances you want to display\n",
    "    print(f\"Instance {i+1}: {top5_predictions[i]}\")\n",
    "print(\"true classes: \" ,(y_test[:5]))"
   ]
  },
  {
   "cell_type": "markdown",
   "metadata": {},
   "source": [
    "## Confusion matrix\n"
   ]
  },
  {
   "cell_type": "code",
   "execution_count": 69,
   "metadata": {},
   "outputs": [
    {
     "data": {
      "text/plain": [
       "array([[117,   0,   0,   0,   0,   0,   0,   0,   0,   0,   0,   0,   0,\n",
       "          0,   0,   0,   0],\n",
       "       [  0, 103,   0,   0,   0,   0,   0,   0,   0,   0,   0,   0,   0,\n",
       "          0,   0,   0,   0],\n",
       "       [  0,   0, 115,   0,   0,   0,   0,   0,   0,   0,   0,   0,   0,\n",
       "          0,   0,   0,   0],\n",
       "       [  0,   0,   0, 108,   0,   0,   0,   0,   0,   0,   0,   0,   0,\n",
       "          0,   0,   0,   0],\n",
       "       [  0,   0,   0,   0,  99,   0,   0,   0,   0,   0,   0,   0,   0,\n",
       "          0,   0,   0,   0],\n",
       "       [  0,   0,   0,   0,   0, 104,   0,   0,   0,   0,   0,   0,   0,\n",
       "          0,   0,   0,   0],\n",
       "       [  0,   0,   0,   0,   0,   0, 113,   0,   0,   0,   0,   0,   0,\n",
       "          0,   0,   0,   0],\n",
       "       [  0,   0,   0,   0,   0,   0,   0, 120,   0,   0,   0,   0,   0,\n",
       "          0,   0,   0,   0],\n",
       "       [  0,   0,   0,   0,   0,   0,   0,   0,  91,   0,   0,   0,   0,\n",
       "          0,   0,   0,   0],\n",
       "       [  0,   0,   0,   0,   0,   0,   0,   0,   0, 102,   0,   0,   0,\n",
       "          0,   0,   0,   0],\n",
       "       [  0,   0,   0,   0,   0,   0,   0,   0,   0,   0, 100,   0,   0,\n",
       "          0,   0,   0,   0],\n",
       "       [  0,   0,   0,   0,   0,   0,   0,   0,   0,   0,   0, 105,   0,\n",
       "          0,   0,   0,   0],\n",
       "       [  0,   0,   0,   0,   0,   0,   0,   0,   0,   0,   0,   0, 105,\n",
       "          0,   0,   0,   0],\n",
       "       [  0,   0,   0,   0,   0,   0,   0,   0,   0,   0,   0,   0,   0,\n",
       "         96,   0,   0,   0],\n",
       "       [  0,   0,   0,   0,   0,   0,   0,   0,   0,   0,   0,   0,   0,\n",
       "          0, 118,   0,   0],\n",
       "       [  0,   0,   0,   0,   0,   0,   0,   0,   0,   0,   0,   0,   0,\n",
       "          0,   0, 117,   0],\n",
       "       [  0,   0,   0,   0,   0,   0,   0,   0,   0,   0,   0,   0,   0,\n",
       "          0,   0,   0, 123]])"
      ]
     },
     "execution_count": 69,
     "metadata": {},
     "output_type": "execute_result"
    }
   ],
   "source": [
    "from sklearn.metrics import confusion_matrix, accuracy_score\n",
    "confusion_matrix(y_test, y_pred)"
   ]
  },
  {
   "cell_type": "code",
   "execution_count": 70,
   "metadata": {},
   "outputs": [
    {
     "name": "stdout",
     "output_type": "stream",
     "text": [
      "accuracy =  100.0\n"
     ]
    }
   ],
   "source": [
    "accuracy = accuracy_score(y_test, y_pred)\n",
    "print(\"accuracy = \", accuracy * 100)"
   ]
  },
  {
   "cell_type": "code",
   "execution_count": 71,
   "metadata": {},
   "outputs": [
    {
     "data": {
      "text/plain": [
       "array([1., 1., 1.])"
      ]
     },
     "execution_count": 71,
     "metadata": {},
     "output_type": "execute_result"
    }
   ],
   "source": [
    "from sklearn.model_selection import cross_val_score\n",
    "cross_val_score(randForstCls, data, labels, cv=3, scoring=\"accuracy\")"
   ]
  },
  {
   "cell_type": "code",
   "execution_count": 72,
   "metadata": {},
   "outputs": [],
   "source": [
    "# Save the model\n",
    "import pickle\n",
    "\n",
    "# save the classifier model\n",
    "with open('../saved_models/random_forest_classifier.pkl', 'wb') as model_file:\n",
    "    pickle.dump(randForstCls, model_file)\n",
    "\n",
    "# save the label\n"
   ]
  }
 ],
 "metadata": {
  "kernelspec": {
   "display_name": "base",
   "language": "python",
   "name": "python3"
  },
  "language_info": {
   "codemirror_mode": {
    "name": "ipython",
    "version": 3
   },
   "file_extension": ".py",
   "mimetype": "text/x-python",
   "name": "python",
   "nbconvert_exporter": "python",
   "pygments_lexer": "ipython3",
   "version": "3.11.5"
  }
 },
 "nbformat": 4,
 "nbformat_minor": 2
}
